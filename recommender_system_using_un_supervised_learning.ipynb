{
  "cells": [
    {
      "cell_type": "code",
      "execution_count": 2,
      "metadata": {
        "_cell_guid": "dd1a042a-19e6-4ef6-84a6-40b60a6d9670",
        "_uuid": "27f4b6aa-63e9-412a-bec1-25c7f3df8bd0",
        "execution": {
          "iopub.execute_input": "2021-07-14T14:04:15.473907Z",
          "iopub.status.busy": "2021-07-14T14:04:15.473576Z",
          "iopub.status.idle": "2021-07-14T14:04:22.405947Z",
          "shell.execute_reply": "2021-07-14T14:04:22.404674Z",
          "shell.execute_reply.started": "2021-07-14T14:04:15.473824Z"
        },
        "colab": {
          "base_uri": "https://localhost:8080/",
          "height": 373
        },
        "id": "L431r_fl50Oc",
        "outputId": "d5a9248e-89ef-4991-a549-078afbc494bf"
      },
      "outputs": [
        {
          "output_type": "error",
          "ename": "ModuleNotFoundError",
          "evalue": "ignored",
          "traceback": [
            "\u001b[0;31m---------------------------------------------------------------------------\u001b[0m",
            "\u001b[0;31mModuleNotFoundError\u001b[0m                       Traceback (most recent call last)",
            "\u001b[0;32m<ipython-input-2-2bf5f3ce19a9>\u001b[0m in \u001b[0;36m<module>\u001b[0;34m()\u001b[0m\n\u001b[1;32m     14\u001b[0m \u001b[0;32mfrom\u001b[0m \u001b[0mgensim\u001b[0m\u001b[0;34m.\u001b[0m\u001b[0mmodels\u001b[0m\u001b[0;34m.\u001b[0m\u001b[0mldamodel\u001b[0m \u001b[0;32mimport\u001b[0m \u001b[0mLdaModel\u001b[0m\u001b[0;34m\u001b[0m\u001b[0;34m\u001b[0m\u001b[0m\n\u001b[1;32m     15\u001b[0m \u001b[0;32mfrom\u001b[0m \u001b[0mgensim\u001b[0m\u001b[0;34m.\u001b[0m\u001b[0mcorpora\u001b[0m \u001b[0;32mimport\u001b[0m \u001b[0mDictionary\u001b[0m\u001b[0;34m\u001b[0m\u001b[0;34m\u001b[0m\u001b[0m\n\u001b[0;32m---> 16\u001b[0;31m \u001b[0;32mimport\u001b[0m \u001b[0mumap\u001b[0m\u001b[0;34m\u001b[0m\u001b[0;34m\u001b[0m\u001b[0m\n\u001b[0m\u001b[1;32m     17\u001b[0m \u001b[0;34m\u001b[0m\u001b[0m\n\u001b[1;32m     18\u001b[0m \u001b[0;32mdef\u001b[0m \u001b[0mtqdm\u001b[0m\u001b[0;34m(\u001b[0m\u001b[0;34m*\u001b[0m\u001b[0margs\u001b[0m\u001b[0;34m,\u001b[0m \u001b[0;34m**\u001b[0m\u001b[0mkwargs\u001b[0m\u001b[0;34m)\u001b[0m\u001b[0;34m:\u001b[0m\u001b[0;34m\u001b[0m\u001b[0;34m\u001b[0m\u001b[0m\n",
            "\u001b[0;31mModuleNotFoundError\u001b[0m: No module named 'umap'",
            "",
            "\u001b[0;31m---------------------------------------------------------------------------\u001b[0;32m\nNOTE: If your import is failing due to a missing package, you can\nmanually install dependencies using either !pip or !apt.\n\nTo view examples of installing some common dependencies, click the\n\"Open Examples\" button below.\n\u001b[0;31m---------------------------------------------------------------------------\u001b[0m\n"
          ],
          "errorDetails": {
            "actions": [
              {
                "action": "open_url",
                "actionText": "Open Examples",
                "url": "/notebooks/snippets/importing_libraries.ipynb"
              }
            ]
          }
        }
      ],
      "source": [
        "import numpy as np # linear algebra\n",
        "import pandas as pd # data processing, CSV file I/O (e.g. pd.read_csv)\n",
        "import os\n",
        "import re\n",
        "import nltk\n",
        "from nltk.corpus import stopwords\n",
        "from nltk.tokenize import word_tokenize\n",
        "from nltk.stem.porter import PorterStemmer\n",
        "from sklearn.feature_extraction.text import TfidfVectorizer\n",
        "import matplotlib.pyplot as plt\n",
        "from sklearn.decomposition import TruncatedSVD, NMF,LatentDirichletAllocation\n",
        "import seaborn as sns\n",
        "from tqdm import tqdm as tqdm_base\n",
        "from gensim.models.ldamodel import LdaModel\n",
        "from gensim.corpora import Dictionary\n",
        "import umap\n",
        "\n",
        "def tqdm(*args, **kwargs):\n",
        "    if hasattr(tqdm_base, '_instances'):\n",
        "        for instance in list(tqdm_base._instances):\n",
        "            tqdm_base._decr_instances(instance)\n",
        "    return tqdm_base(*args, **kwargs)\n",
        "\n",
        "'''Loading the movie dataset'''\n",
        "movie_df = pd.read_csv('/kaggle/input/wikipedia-movie-plots/wiki_movie_plots_deduped.csv')\n",
        "#movie_df.head()\n",
        "#movie_df['Genre'].value_counts()"
      ]
    },
    {
      "cell_type": "code",
      "execution_count": null,
      "metadata": {
        "_cell_guid": "ef2f0499-6bca-498b-8cfb-71f23390b10c",
        "_uuid": "23274ccf-4a2a-4c80-89d8-6f67b04965bb",
        "execution": {
          "iopub.execute_input": "2021-07-14T14:04:22.408663Z",
          "iopub.status.busy": "2021-07-14T14:04:22.407919Z",
          "iopub.status.idle": "2021-07-14T14:04:22.521243Z",
          "shell.execute_reply": "2021-07-14T14:04:22.520530Z",
          "shell.execute_reply.started": "2021-07-14T14:04:22.408608Z"
        },
        "id": "xhUlIXIK50Of"
      },
      "outputs": [],
      "source": [
        "def Data_Cleaning(Genre):\n",
        "    '''\n",
        "    Here we have cleaned the entire Genre column of the dataset by removing unwanted symbols, categories, and \n",
        "    replacing categories which meant the same with a common category name. It reduduces our number of target labels.\n",
        "    NOTE: This function is inspired from the kernel - https://www.kaggle.com/aminejallouli/genre-classification-based-on-wiki-movies-plots\n",
        "    I have only improved it a bit further according to my requirements.\n",
        "    '''\n",
        "    movie_df['Genre_improved'] = movie_df['Genre']\n",
        "    movie_df['Genre_improved']=movie_df['Genre_improved'].str.strip()\n",
        "    movie_df['Genre_improved']=movie_df['Genre_improved'].str.replace(' - ', '|')\n",
        "    movie_df['Genre_improved']=movie_df['Genre_improved'].str.replace(' / ', '|')\n",
        "    movie_df['Genre_improved']=movie_df['Genre_improved'].str.replace('/', '|')\n",
        "    movie_df['Genre_improved']=movie_df['Genre_improved'].str.replace(' & ', '|')\n",
        "    movie_df['Genre_improved']=movie_df['Genre_improved'].str.replace(', ', '|')\n",
        "    movie_df['Genre_improved']=movie_df['Genre_improved'].str.replace('; ', '|')\n",
        "    movie_df['Genre_improved']=movie_df['Genre_improved'].str.replace('bio-pic', 'biography')\n",
        "    movie_df['Genre_improved']=movie_df['Genre_improved'].str.replace('biopic', 'biography')\n",
        "    movie_df['Genre_improved']=movie_df['Genre_improved'].str.replace('biographical', 'biography')\n",
        "    movie_df['Genre_improved']=movie_df['Genre_improved'].str.replace('biodrama', 'biography')\n",
        "    movie_df['Genre_improved']=movie_df['Genre_improved'].str.replace('bio-drama', 'biography')\n",
        "    movie_df['Genre_improved']=movie_df['Genre_improved'].str.replace('biographic', 'biography')\n",
        "    movie_df['Genre_improved']=movie_df['Genre_improved'].str.replace(' \\(film genre\\)', '')\n",
        "    movie_df['Genre_improved']=movie_df['Genre_improved'].str.replace('animated','animation')\n",
        "    movie_df['Genre_improved']=movie_df['Genre_improved'].str.replace('anime','animation')\n",
        "    movie_df['Genre_improved']=movie_df['Genre_improved'].str.replace('children\\'s','children')\n",
        "    movie_df['Genre_improved']=movie_df['Genre_improved'].str.replace('comedey','comedy')\n",
        "    movie_df['Genre_improved']=movie_df['Genre_improved'].str.replace('\\[not in citation given\\]','')\n",
        "    movie_df['Genre_improved']=movie_df['Genre_improved'].str.replace(' set 4,000 years ago in the canadian arctic','')\n",
        "    movie_df['Genre_improved']=movie_df['Genre_improved'].str.replace('historical','history')\n",
        "    movie_df['Genre_improved']=movie_df['Genre_improved'].str.replace('romantic','romance')\n",
        "    movie_df['Genre_improved']=movie_df['Genre_improved'].str.replace('3-d','animation')\n",
        "    movie_df['Genre_improved']=movie_df['Genre_improved'].str.replace('3d','animation')\n",
        "    movie_df['Genre_improved']=movie_df['Genre_improved'].str.replace('viacom 18 motion pictures','')\n",
        "    movie_df['Genre_improved']=movie_df['Genre_improved'].str.replace('sci-fi','science_fiction')\n",
        "    movie_df['Genre_improved']=movie_df['Genre_improved'].str.replace('ttriller','thriller')\n",
        "    movie_df['Genre_improved']=movie_df['Genre_improved'].str.replace('.','')\n",
        "    movie_df['Genre_improved']=movie_df['Genre_improved'].str.replace('based on radio serial','')\n",
        "    movie_df['Genre_improved']=movie_df['Genre_improved'].str.replace(' on the early years of hitler','')\n",
        "    movie_df['Genre_improved']=movie_df['Genre_improved'].str.replace('sci fi','science_fiction')\n",
        "    movie_df['Genre_improved']=movie_df['Genre_improved'].str.replace('science fiction','science_fiction')\n",
        "    movie_df['Genre_improved']=movie_df['Genre_improved'].str.replace(' (30min)','')\n",
        "    movie_df['Genre_improved']=movie_df['Genre_improved'].str.replace('16 mm film','short')\n",
        "    movie_df['Genre_improved']=movie_df['Genre_improved'].str.replace('\\[140\\]','drama')\n",
        "    movie_df['Genre_improved']=movie_df['Genre_improved'].str.replace('\\[144\\]','')\n",
        "    movie_df['Genre_improved']=movie_df['Genre_improved'].str.replace(' for ','')\n",
        "    movie_df['Genre_improved']=movie_df['Genre_improved'].str.replace('adventures','adventure')\n",
        "    movie_df['Genre_improved']=movie_df['Genre_improved'].str.replace('kung fu','martial_arts')\n",
        "    movie_df['Genre_improved']=movie_df['Genre_improved'].str.replace('kung-fu','martial_arts')\n",
        "    movie_df['Genre_improved']=movie_df['Genre_improved'].str.replace('martial arts','martial_arts')\n",
        "    movie_df['Genre_improved']=movie_df['Genre_improved'].str.replace('world war ii','war')\n",
        "    movie_df['Genre_improved']=movie_df['Genre_improved'].str.replace('world war i','war')\n",
        "    movie_df['Genre_improved']=movie_df['Genre_improved'].str.replace('biography about montreal canadiens star|maurice richard','biography')\n",
        "    movie_df['Genre_improved']=movie_df['Genre_improved'].str.replace('bholenath movies|cinekorn entertainment','')\n",
        "    movie_df['Genre_improved']=movie_df['Genre_improved'].str.replace(' \\(volleyball\\)','')\n",
        "    movie_df['Genre_improved']=movie_df['Genre_improved'].str.replace('spy film','spy')\n",
        "    movie_df['Genre_improved']=movie_df['Genre_improved'].str.replace('anthology film','anthology')\n",
        "    movie_df['Genre_improved']=movie_df['Genre_improved'].str.replace('biography fim','biography')\n",
        "    movie_df['Genre_improved']=movie_df['Genre_improved'].str.replace('avant-garde','avant_garde')\n",
        "    movie_df['Genre_improved']=movie_df['Genre_improved'].str.replace('biker film','biker')\n",
        "    movie_df['Genre_improved']=movie_df['Genre_improved'].str.replace('buddy cop','buddy')\n",
        "    movie_df['Genre_improved']=movie_df['Genre_improved'].str.replace('buddy film','buddy')\n",
        "    movie_df['Genre_improved']=movie_df['Genre_improved'].str.replace('comedy 2-reeler','comedy')\n",
        "    movie_df['Genre_improved']=movie_df['Genre_improved'].str.replace('films','')\n",
        "    movie_df['Genre_improved']=movie_df['Genre_improved'].str.replace('film','')\n",
        "    movie_df['Genre_improved']=movie_df['Genre_improved'].str.replace('biography of pioneering american photographer eadweard muybridge','biography')\n",
        "    movie_df['Genre_improved']=movie_df['Genre_improved'].str.replace('british-german co-production','')\n",
        "    movie_df['Genre_improved']=movie_df['Genre_improved'].str.replace('bruceploitation','martial_arts')\n",
        "    movie_df['Genre_improved']=movie_df['Genre_improved'].str.replace('comedy-drama adaptation of the mordecai richler novel','comedy-drama')\n",
        "    movie_df['Genre_improved']=movie_df['Genre_improved'].str.replace('movies by the mob\\|knkspl','')\n",
        "    movie_df['Genre_improved']=movie_df['Genre_improved'].str.replace('movies','')\n",
        "    movie_df['Genre_improved']=movie_df['Genre_improved'].str.replace('movie','')\n",
        "    movie_df['Genre_improved']=movie_df['Genre_improved'].str.replace('coming of age','coming_of_age')\n",
        "    movie_df['Genre_improved']=movie_df['Genre_improved'].str.replace('coming-of-age','coming_of_age')\n",
        "    movie_df['Genre_improved']=movie_df['Genre_improved'].str.replace('drama about child soldiers','drama')\n",
        "    movie_df['Genre_improved']=movie_df['Genre_improved'].str.replace('(( based).+)','')\n",
        "    movie_df['Genre_improved']=movie_df['Genre_improved'].str.replace('(( co-produced).+)','')\n",
        "    movie_df['Genre_improved']=movie_df['Genre_improved'].str.replace('(( adapted).+)','')\n",
        "    movie_df['Genre_improved']=movie_df['Genre_improved'].str.replace('(( about).+)','')\n",
        "    movie_df['Genre_improved']=movie_df['Genre_improved'].str.replace('musical b','musical')\n",
        "    movie_df['Genre_improved']=movie_df['Genre_improved'].str.replace('animationchildren','animation|children')\n",
        "    movie_df['Genre_improved']=movie_df['Genre_improved'].str.replace(' period','period')\n",
        "    movie_df['Genre_improved']=movie_df['Genre_improved'].str.replace('drama loosely','drama')\n",
        "    movie_df['Genre_improved']=movie_df['Genre_improved'].str.replace(' \\(aquatics|swimming\\)','')\n",
        "    movie_df['Genre_improved']=movie_df['Genre_improved'].str.replace(' \\(aquatics|swimming\\)','')\n",
        "    movie_df['Genre_improved']=movie_df['Genre_improved'].str.replace(\"yogesh dattatraya gosavi's directorial debut \\[9\\]\",'')\n",
        "    movie_df['Genre_improved']=movie_df['Genre_improved'].str.replace(\"war-time\",\"war\")\n",
        "    movie_df['Genre_improved']=movie_df['Genre_improved'].str.replace(\"wartime\",\"war\")\n",
        "    movie_df['Genre_improved']=movie_df['Genre_improved'].str.replace(\"ww1\",\"war\")\n",
        "    movie_df['Genre_improved']=movie_df['Genre_improved'].str.replace('unknown','')\n",
        "    movie_df['Genre_improved']=movie_df['Genre_improved'].str.replace(\"wwii\",\"war\")\n",
        "    movie_df['Genre_improved']=movie_df['Genre_improved'].str.replace('psychological','psycho')\n",
        "    movie_df['Genre_improved']=movie_df['Genre_improved'].str.replace('rom-coms','romance')\n",
        "    movie_df['Genre_improved']=movie_df['Genre_improved'].str.replace('true crime','crime')\n",
        "    movie_df['Genre_improved']=movie_df['Genre_improved'].str.replace('\\|007','')\n",
        "    movie_df['Genre_improved']=movie_df['Genre_improved'].str.replace('slice of life','slice_of_life')\n",
        "    movie_df['Genre_improved']=movie_df['Genre_improved'].str.replace('computer animation','animation')\n",
        "    movie_df['Genre_improved']=movie_df['Genre_improved'].str.replace('gun fu','martial_arts')\n",
        "    movie_df['Genre_improved']=movie_df['Genre_improved'].str.replace('j-horror','horror')\n",
        "    movie_df['Genre_improved']=movie_df['Genre_improved'].str.replace(' \\(shogi|chess\\)','')\n",
        "    movie_df['Genre_improved']=movie_df['Genre_improved'].str.replace('afghan war drama','war drama')\n",
        "    movie_df['Genre_improved']=movie_df['Genre_improved'].str.replace('\\|6 separate stories','')\n",
        "    movie_df['Genre_improved']=movie_df['Genre_improved'].str.replace(' \\(30min\\)','')\n",
        "    movie_df['Genre_improved']=movie_df['Genre_improved'].str.replace(' (road bicycle racing)','')\n",
        "    movie_df['Genre_improved']=movie_df['Genre_improved'].str.replace(' v-cinema','')\n",
        "    movie_df['Genre_improved']=movie_df['Genre_improved'].str.replace('tv miniseries','tv_miniseries')\n",
        "    movie_df['Genre_improved']=movie_df['Genre_improved'].str.replace('\\|docudrama','\\|documentary|drama')\n",
        "    movie_df['Genre_improved']=movie_df['Genre_improved'].str.replace(' in animation','|animation')\n",
        "    movie_df['Genre_improved']=movie_df['Genre_improved'].str.replace('((adaptation).+)','')\n",
        "    movie_df['Genre_improved']=movie_df['Genre_improved'].str.replace('((adaptated).+)','')\n",
        "    movie_df['Genre_improved']=movie_df['Genre_improved'].str.replace('((adapted).+)','')\n",
        "    movie_df['Genre_improved']=movie_df['Genre_improved'].str.replace('(( on ).+)','')\n",
        "    movie_df['Genre_improved']=movie_df['Genre_improved'].str.replace('american football','sports')\n",
        "    movie_df['Genre_improved']=movie_df['Genre_improved'].str.replace('dev\\|nusrat jahan','sports')\n",
        "    movie_df['Genre_improved']=movie_df['Genre_improved'].str.replace('television miniseries','tv_miniseries')\n",
        "    movie_df['Genre_improved']=movie_df['Genre_improved'].str.replace(' \\(artistic\\)','')\n",
        "    movie_df['Genre_improved']=movie_df['Genre_improved'].str.replace(' \\|direct-to-dvd','')\n",
        "    movie_df['Genre_improved']=movie_df['Genre_improved'].str.replace('history dram','history drama')\n",
        "    movie_df['Genre_improved']=movie_df['Genre_improved'].str.replace('martial art','martial_arts')\n",
        "    movie_df['Genre_improved']=movie_df['Genre_improved'].str.replace('psycho thriller,','psycho thriller')\n",
        "    movie_df['Genre_improved']=movie_df['Genre_improved'].str.replace('\\|1 girl\\|3 suitors','')\n",
        "    movie_df['Genre_improved']=movie_df['Genre_improved'].str.replace(' \\(road bicycle racing\\)','')\n",
        "    filterE = movie_df['Genre_improved']==\"ero\"\n",
        "    movie_df.loc[filterE,'Genre_improved']=\"adult\"\n",
        "    filterE = movie_df['Genre_improved']==\"music\"\n",
        "    movie_df.loc[filterE,'Genre_improved']=\"musical\"\n",
        "    filterE = movie_df['Genre_improved']==\"-\"\n",
        "    movie_df.loc[filterE,'Genre_improved']=''\n",
        "    filterE = movie_df['Genre_improved']==\"comedy–drama\"\n",
        "    movie_df.loc[filterE,'Genre_improved'] = \"comedy|drama\"\n",
        "    filterE = movie_df['Genre_improved']==\"comedy–horror\"\n",
        "    movie_df.loc[filterE,'Genre_improved'] = \"comedy|horror\"\n",
        "    \n",
        "    movie_df['Genre_improved']=movie_df['Genre_improved'].str.replace(' ','|')\n",
        "    movie_df['Genre_improved']=movie_df['Genre_improved'].str.replace(',','|')\n",
        "    movie_df['Genre_improved']=movie_df['Genre_improved'].str.replace('-','')\n",
        "    movie_df['Genre_improved']=movie_df['Genre_improved'].str.replace('actionadventure','action|adventure')\n",
        "    movie_df['Genre_improved']=movie_df['Genre_improved'].str.replace('actioncomedy','action|comedy')\n",
        "    movie_df['Genre_improved']=movie_df['Genre_improved'].str.replace('actiondrama','action|drama')\n",
        "    movie_df['Genre_improved']=movie_df['Genre_improved'].str.replace('actionlove','action|love')\n",
        "    movie_df['Genre_improved']=movie_df['Genre_improved'].str.replace('actionmasala','action|masala')\n",
        "    movie_df['Genre_improved']=movie_df['Genre_improved'].str.replace('actionchildren','action|children')\n",
        "\n",
        "    movie_df['Genre_improved']=movie_df['Genre_improved'].str.replace('fantasychildren\\|','fantasy|children')\n",
        "    movie_df['Genre_improved']=movie_df['Genre_improved'].str.replace('fantasycomedy','fantasy|comedy')\n",
        "    movie_df['Genre_improved']=movie_df['Genre_improved'].str.replace('fantasyperiod','fantasy|period')\n",
        "    movie_df['Genre_improved']=movie_df['Genre_improved'].str.replace('cbctv_miniseries','tv_miniseries')\n",
        "    movie_df['Genre_improved']=movie_df['Genre_improved'].str.replace('dramacomedy','drama|comedy')\n",
        "    movie_df['Genre_improved']=movie_df['Genre_improved'].str.replace('dramacomedysocial','drama|comedy|social')\n",
        "    movie_df['Genre_improved']=movie_df['Genre_improved'].str.replace('dramathriller','drama|thriller')\n",
        "    movie_df['Genre_improved']=movie_df['Genre_improved'].str.replace('comedydrama','comedy|drama')\n",
        "    movie_df['Genre_improved']=movie_df['Genre_improved'].str.replace('dramathriller','drama|thriller')\n",
        "    movie_df['Genre_improved']=movie_df['Genre_improved'].str.replace('comedyhorror','comedy|horror')\n",
        "    movie_df['Genre_improved']=movie_df['Genre_improved'].str.replace('sciencefiction','science_fiction')\n",
        "    movie_df['Genre_improved']=movie_df['Genre_improved'].str.replace('adventurecomedy','adventure|comedy')\n",
        "    movie_df['Genre_improved']=movie_df['Genre_improved'].str.replace('animationdrama','animation|drama')\n",
        "    movie_df['Genre_improved']=movie_df['Genre_improved'].str.replace('\\|\\|','|')\n",
        "    movie_df['Genre_improved']=movie_df['Genre_improved'].str.replace('muslim','religious')\n",
        "    movie_df['Genre_improved']=movie_df['Genre_improved'].str.replace('thriler','thriller')\n",
        "    movie_df['Genre_improved']=movie_df['Genre_improved'].str.replace('crimethriller','crime|thriller')\n",
        "    movie_df['Genre_improved']=movie_df['Genre_improved'].str.replace('fantay','fantasy')\n",
        "    movie_df['Genre_improved']=movie_df['Genre_improved'].str.replace('actionthriller','action|thriller')\n",
        "    movie_df['Genre_improved']=movie_df['Genre_improved'].str.replace('comedysocial','comedy|social')\n",
        "    movie_df['Genre_improved']=movie_df['Genre_improved'].str.replace('martialarts','martial_arts')\n",
        "    movie_df['Genre_improved']=movie_df['Genre_improved'].str.replace('\\|\\(children\\|poker\\|karuta\\)','')\n",
        "    movie_df['Genre_improved']=movie_df['Genre_improved'].str.replace('epichistory','epic|history')\n",
        "\n",
        "    movie_df['Genre_improved']=movie_df['Genre_improved'].str.replace('erotica','adult')\n",
        "    movie_df['Genre_improved']=movie_df['Genre_improved'].str.replace('erotic','adult')\n",
        "\n",
        "    movie_df['Genre_improved']=movie_df['Genre_improved'].str.replace('((\\|produced\\|).+)','')\n",
        "    movie_df['Genre_improved']=movie_df['Genre_improved'].str.replace('chanbara','chambara')\n",
        "    movie_df['Genre_improved']=movie_df['Genre_improved'].str.replace('comedythriller','comedy|thriller')\n",
        "    movie_df['Genre_improved']=movie_df['Genre_improved'].str.replace('biblical','religious')\n",
        "    movie_df['Genre_improved']=movie_df['Genre_improved'].str.replace('biblical','religious')\n",
        "    movie_df['Genre_improved']=movie_df['Genre_improved'].str.replace('colour\\|yellow\\|productions\\|eros\\|international','')\n",
        "    movie_df['Genre_improved']=movie_df['Genre_improved'].str.replace('\\|directtodvd','')\n",
        "    movie_df['Genre_improved']=movie_df['Genre_improved'].str.replace('liveaction','live|action')\n",
        "    movie_df['Genre_improved']=movie_df['Genre_improved'].str.replace('melodrama','drama')\n",
        "    movie_df['Genre_improved']=movie_df['Genre_improved'].str.replace('superheroes','superheroe')\n",
        "    movie_df['Genre_improved']=movie_df['Genre_improved'].str.replace('gangsterthriller','gangster|thriller')\n",
        "\n",
        "    movie_df['Genre_improved']=movie_df['Genre_improved'].str.replace('heistcomedy','comedy')\n",
        "    movie_df['Genre_improved']=movie_df['Genre_improved'].str.replace('heist','action')\n",
        "    movie_df['Genre_improved']=movie_df['Genre_improved'].str.replace('historic','history')\n",
        "    movie_df['Genre_improved']=movie_df['Genre_improved'].str.replace('historydisaster','history|disaster')\n",
        "    movie_df['Genre_improved']=movie_df['Genre_improved'].str.replace('warcomedy','war|comedy')\n",
        "    movie_df['Genre_improved']=movie_df['Genre_improved'].str.replace('westerncomedy','western|comedy')\n",
        "    movie_df['Genre_improved']=movie_df['Genre_improved'].str.replace('ancientcostume','costume')\n",
        "    movie_df['Genre_improved']=movie_df['Genre_improved'].str.replace('computeranimation','animation')\n",
        "    movie_df['Genre_improved']=movie_df['Genre_improved'].str.replace('dramatic','drama')\n",
        "    movie_df['Genre_improved']=movie_df['Genre_improved'].str.replace('familya','family')\n",
        "    movie_df['Genre_improved']=movie_df['Genre_improved'].str.replace('familya','family')\n",
        "    movie_df['Genre_improved']=movie_df['Genre_improved'].str.replace('dramedy','drama|comedy')\n",
        "    movie_df['Genre_improved']=movie_df['Genre_improved'].str.replace('dramaa','drama')\n",
        "    movie_df['Genre_improved']=movie_df['Genre_improved'].str.replace('famil\\|','family')\n",
        "\n",
        "    movie_df['Genre_improved']=movie_df['Genre_improved'].str.replace('superheroe','superhero')\n",
        "    movie_df['Genre_improved']=movie_df['Genre_improved'].str.replace('biogtaphy','biography')\n",
        "    movie_df['Genre_improved']=movie_df['Genre_improved'].str.replace('devotionalbiography','devotional|biography')\n",
        "    movie_df['Genre_improved']=movie_df['Genre_improved'].str.replace('docufiction','documentary|fiction')\n",
        "\n",
        "    movie_df['Genre_improved']=movie_df['Genre_improved'].str.replace('familydrama','family|drama')\n",
        "\n",
        "    movie_df['Genre_improved']=movie_df['Genre_improved'].str.replace('espionage','spy')\n",
        "    movie_df['Genre_improved']=movie_df['Genre_improved'].str.replace('supeheroes','superhero')\n",
        "    movie_df['Genre_improved']=movie_df['Genre_improved'].str.replace('romancefiction','romance|fiction')\n",
        "    movie_df['Genre_improved']=movie_df['Genre_improved'].str.replace('horrorthriller','horror|thriller')\n",
        "\n",
        "    movie_df['Genre_improved']=movie_df['Genre_improved'].str.replace('suspensethriller','suspense|thriller')\n",
        "    movie_df['Genre_improved']=movie_df['Genre_improved'].str.replace('musicaliography','musical|biography')\n",
        "    movie_df['Genre_improved']=movie_df['Genre_improved'].str.replace('triller','thriller')\n",
        "\n",
        "    movie_df['Genre_improved']=movie_df['Genre_improved'].str.replace('\\|\\(fiction\\)','|fiction')\n",
        "\n",
        "    movie_df['Genre_improved']=movie_df['Genre_improved'].str.replace('romanceaction','romance|action')\n",
        "    movie_df['Genre_improved']=movie_df['Genre_improved'].str.replace('romancecomedy','romance|comedy')\n",
        "    movie_df['Genre_improved']=movie_df['Genre_improved'].str.replace('romancehorror','romance|horror')\n",
        "\n",
        "    movie_df['Genre_improved']=movie_df['Genre_improved'].str.replace('romcom','romance|comedy')\n",
        "    movie_df['Genre_improved']=movie_df['Genre_improved'].str.replace('rom\\|com','romance|comedy')\n",
        "    movie_df['Genre_improved']=movie_df['Genre_improved'].str.replace('satirical','satire')\n",
        "\n",
        "    movie_df['Genre_improved']=movie_df['Genre_improved'].str.replace('science_fictionchildren','science_fiction|children')\n",
        "    movie_df['Genre_improved']=movie_df['Genre_improved'].str.replace('homosexual','adult')\n",
        "    movie_df['Genre_improved']=movie_df['Genre_improved'].str.replace('sexual','adult')\n",
        "\n",
        "    movie_df['Genre_improved']=movie_df['Genre_improved'].str.replace('mockumentary','documentary')\n",
        "    movie_df['Genre_improved']=movie_df['Genre_improved'].str.replace('periodic','period')\n",
        "    movie_df['Genre_improved']=movie_df['Genre_improved'].str.replace('romanctic','romance')\n",
        "    movie_df['Genre_improved']=movie_df['Genre_improved'].str.replace('politics','political')\n",
        "    movie_df['Genre_improved']=movie_df['Genre_improved'].str.replace('samurai','martial_arts')\n",
        "    movie_df['Genre_improved']=movie_df['Genre_improved'].str.replace('tv_miniseries','series')\n",
        "    movie_df['Genre_improved']=movie_df['Genre_improved'].str.replace('serial','series')\n",
        "\n",
        "    filterE = movie_df['Genre_improved']==\"musical–comedy\"\n",
        "    movie_df.loc[filterE,'Genre_improved'] = \"musical|comedy\"\n",
        "\n",
        "    filterE = movie_df['Genre_improved']==\"roman|porno\"\n",
        "    movie_df.loc[filterE,'Genre_improved'] = \"adult\"\n",
        "\n",
        "\n",
        "    filterE = movie_df['Genre_improved']==\"action—masala\"\n",
        "    movie_df.loc[filterE,'Genre_improved'] = \"action|masala\"\n",
        "\n",
        "\n",
        "    filterE = movie_df['Genre_improved']==\"horror–thriller\"\n",
        "    movie_df.loc[filterE,'Genre_improved'] = \"horror|thriller\"\n",
        "\n",
        "    movie_df['Genre_improved']=movie_df['Genre_improved'].str.replace('family','children')\n",
        "    movie_df['Genre_improved']=movie_df['Genre_improved'].str.replace('martial_arts','action')\n",
        "    movie_df['Genre_improved']=movie_df['Genre_improved'].str.replace('horror','thriller')\n",
        "    movie_df['Genre_improved']=movie_df['Genre_improved'].str.replace('war','action')\n",
        "    movie_df['Genre_improved']=movie_df['Genre_improved'].str.replace('adventure','action')\n",
        "    movie_df['Genre_improved']=movie_df['Genre_improved'].str.replace('science_fiction','action')\n",
        "    movie_df['Genre_improved']=movie_df['Genre_improved'].str.replace('western','action')\n",
        "    movie_df['Genre_improved']=movie_df['Genre_improved'].str.replace('western','action')\n",
        "    movie_df['Genre_improved']=movie_df['Genre_improved'].str.replace('noir','black')\n",
        "    movie_df['Genre_improved']=movie_df['Genre_improved'].str.replace('spy','action')\n",
        "    movie_df['Genre_improved']=movie_df['Genre_improved'].str.replace('superhero','action')\n",
        "    movie_df['Genre_improved']=movie_df['Genre_improved'].str.replace('social','')\n",
        "    movie_df['Genre_improved']=movie_df['Genre_improved'].str.replace('suspense','action')\n",
        "    movie_df['Genre_improved']=movie_df['Genre_improved'].str.replace('sex','adult')\n",
        "\n",
        "\n",
        "    filterE = movie_df['Genre_improved']==\"drama|romance|adult|children\"\n",
        "    movie_df.loc[filterE,'Genre_improved'] = \"drama|romance|adult\"\n",
        "\n",
        "    movie_df['Genre_improved']=movie_df['Genre_improved'].str.replace('\\|–\\|','|')\n",
        "    movie_df['Genre_improved']=movie_df['Genre_improved'].str.strip(to_strip='\\|')\n",
        "    movie_df['Genre_improved']=movie_df['Genre_improved'].str.replace('actionner','action')\n",
        "    movie_df['Genre_improved']=movie_df['Genre_improved'].str.replace('love','romance')\n",
        "    movie_df['Genre_improved']=movie_df['Genre_improved'].str.replace('crime','mystery')\n",
        "    movie_df['Genre_improved']=movie_df['Genre_improved'].str.replace('kids','children')\n",
        "    movie_df['Genre_improved']=movie_df['Genre_improved'].str.replace('boxing','action')\n",
        "    movie_df['Genre_improved']=movie_df['Genre_improved'].str.replace('buddy','drama')\n",
        "    movie_df['Genre_improved']=movie_df['Genre_improved'].str.replace('cartoon','animation')\n",
        "    movie_df['Genre_improved']=movie_df['Genre_improved'].str.replace('cinema','drama')\n",
        "    movie_df['Genre_improved']=movie_df['Genre_improved'].str.replace('religious','supernatural')\n",
        "    movie_df['Genre_improved']=movie_df['Genre_improved'].str.replace('christian','supernatural')\n",
        "    movie_df['Genre_improved']=movie_df['Genre_improved'].str.replace('lgbtthemed','romance')\n",
        "    movie_df['Genre_improved']=movie_df['Genre_improved'].str.replace('detective','mystery')\n",
        "    movie_df['Genre_improved']=movie_df['Genre_improved'].str.replace('nature','drama')\n",
        "    movie_df['Genre_improved']=movie_df['Genre_improved'].str.replace('fiction','drama')\n",
        "    movie_df['Genre_improved']=movie_df['Genre_improved'].str.replace('music','artistic')\n",
        "    movie_df['Genre_improved']=movie_df['Genre_improved'].str.replace('musical','artistic')\n",
        "    movie_df['Genre_improved']=movie_df['Genre_improved'].str.replace('short','artistic')\n",
        "    movie_df['Genre_improved']=movie_df['Genre_improved'].str.replace('mythology','supernatural')\n",
        "    movie_df['Genre_improved']=movie_df['Genre_improved'].str.replace('mythological','supernatural')\n",
        "    movie_df['Genre_improved']=movie_df['Genre_improved'].str.replace('masala','action')\n",
        "    movie_df['Genre_improved']=movie_df['Genre_improved'].str.replace('military','action')\n",
        "    movie_df['Genre_improved']=movie_df['Genre_improved'].str.replace('sexploitation','adult')\n",
        "    movie_df['Genre_improved']=movie_df['Genre_improved'].str.replace('tragedy','drama')\n",
        "    movie_df['Genre_improved']=movie_df['Genre_improved'].str.replace('murder','mystery')\n",
        "    movie_df['Genre_improved']=movie_df['Genre_improved'].str.replace('disaster','drama')\n",
        "    movie_df['Genre_improved']=movie_df['Genre_improved'].str.replace('documentary','biography')\n",
        "    movie_df['Genre_improved']=movie_df['Genre_improved'].str.replace('dance','artistic')\n",
        "    movie_df['Genre_improved']=movie_df['Genre_improved'].str.replace('cowboy','action')\n",
        "    movie_df['Genre_improved']=movie_df['Genre_improved'].str.replace('anthology','artistic')\n",
        "    movie_df['Genre_improved']=movie_df['Genre_improved'].str.replace('artistical','artistic')\n",
        "    movie_df['Genre_improved']=movie_df['Genre_improved'].str.replace('art','artistic')\n",
        "    movie_df['Genre_improved']=movie_df['Genre_improved'].str.strip()\n",
        "    return movie_df['Genre_improved']"
      ]
    },
    {
      "cell_type": "code",
      "execution_count": null,
      "metadata": {
        "_cell_guid": "761a4192-06cb-4a3f-98fe-1c6527f8ad2a",
        "_uuid": "5ead110c-b9eb-40cb-9666-c2e42dcb54e0",
        "execution": {
          "iopub.execute_input": "2021-07-14T17:15:55.172944Z",
          "iopub.status.busy": "2021-07-14T17:15:55.172658Z",
          "iopub.status.idle": "2021-07-14T17:15:55.181040Z",
          "shell.execute_reply": "2021-07-14T17:15:55.180182Z",
          "shell.execute_reply.started": "2021-07-14T17:15:55.172897Z"
        },
        "id": "qxdt49jV50O4"
      },
      "outputs": [],
      "source": [
        "def group_genre(Genre_improved):\n",
        "    '''\n",
        "    After cleaning the Genre we have grouped similar set of genres together. For Example: action|comedy and \n",
        "    comedy|action were considered two different set of genres previously but in this function we have rectified it.\n",
        "    We have also restricted our genre categories to some selected categories as mentioned in the list \"list_genre\".\n",
        "    \n",
        "    '''\n",
        "    movie_df['Genre_grouped'] = movie_df['Genre_improved']\n",
        "    list_genre = ['action','adult','animation','children','comedy','drama','fantasy','romance','supernatural',\n",
        "                 'biography','history','thriller','science','mystery','series','artistic']\n",
        "    for i in range(len(movie_df['Genre_improved'])):\n",
        "        genre = movie_df['Genre_improved'][i]\n",
        "        k = genre.split(\"|\")\n",
        "        k = set(k)\n",
        "        k = sorted(k)\n",
        "        k = [u for u in k if u in list_genre]\n",
        "        k = [x for x in k if x]\n",
        "        final = \"|\".join(k)\n",
        "        movie_df['Genre_grouped'][i] = final\n",
        "    movie_df['Genre_grouped'] = movie_df['Genre_grouped'].replace('','Default')\n",
        "    return movie_df['Genre_grouped']"
      ]
    },
    {
      "cell_type": "code",
      "execution_count": null,
      "metadata": {
        "_cell_guid": "d274d058-3298-4b84-bf95-37061e872bed",
        "_uuid": "26decfae-c37e-4658-90d6-d1f8f61141bf",
        "execution": {
          "iopub.execute_input": "2021-07-14T17:15:55.920430Z",
          "iopub.status.busy": "2021-07-14T17:15:55.919957Z",
          "iopub.status.idle": "2021-07-14T17:15:55.929364Z",
          "shell.execute_reply": "2021-07-14T17:15:55.927598Z",
          "shell.execute_reply.started": "2021-07-14T17:15:55.920390Z"
        },
        "id": "Tp_UH13a50O4"
      },
      "outputs": [],
      "source": [
        "def pre_Process_data(documents):\n",
        "    '''\n",
        "    For preprocessing we have regularized, transformed each upper case into lower case, tokenized,\n",
        "    Normalized and remove stopwords. For normalization, we have used PorterStemmer. Porter stemmer transforms \n",
        "    a sentence from this \"love loving loved\" to this \"love love love\"\n",
        "    \n",
        "    '''\n",
        "    STOPWORDS = set(stopwords.words('english'))\n",
        "    stemmer = PorterStemmer()\n",
        "    Tokenized_Doc=[]\n",
        "    print(\"Pre-Processing the Data.........\\n\")\n",
        "    for data in tqdm(documents):\n",
        "        review = re.sub('[^a-zA-Z]', ' ', data)\n",
        "        gen_docs = [w.lower() for w in word_tokenize(review)] \n",
        "        tokens = [stemmer.stem(token) for token in gen_docs if not token in STOPWORDS]\n",
        "        final_=' '.join(tokens)\n",
        "        Tokenized_Doc.append(final_)\n",
        "    return Tokenized_Doc"
      ]
    },
    {
      "cell_type": "code",
      "execution_count": null,
      "metadata": {
        "_cell_guid": "a82cc84a-36eb-4675-8437-704e3a042e12",
        "_uuid": "6ea6b8dc-4707-48aa-b597-130de0bfc82d",
        "execution": {
          "iopub.execute_input": "2021-07-14T17:15:58.986132Z",
          "iopub.status.busy": "2021-07-14T17:15:58.985203Z",
          "iopub.status.idle": "2021-07-14T17:15:58.992766Z",
          "shell.execute_reply": "2021-07-14T17:15:58.991616Z",
          "shell.execute_reply.started": "2021-07-14T17:15:58.985436Z"
        },
        "id": "z-43_IFr50O5"
      },
      "outputs": [],
      "source": [
        "def Vectorization(processed_data):\n",
        "    '''\n",
        "    Vectorization is an important step in Natural Language Processing. We have\n",
        "    Used Tf_Idf vectorization in this script. The n_gram range for vectorization \n",
        "    lies between 2 and 3, that means minimum and maximum number of words in \n",
        "    the sequence that would be vectorized is two and three respectively. There\n",
        "    are other different types of vectorization algorithms also, which could be added to this \n",
        "    function as required.\n",
        "    \n",
        "    '''\n",
        "    vectorizer = TfidfVectorizer(stop_words='english', \n",
        "                                    max_features= 20000,#200000, # keep top 200000 terms \n",
        "                                    min_df = 1, ngram_range=(1,1), #(2,3),\n",
        "                                    smooth_idf=True)\n",
        "    X = vectorizer.fit_transform(processed_data)\n",
        "    print(\"\\n Shape of the document-term matrix\")\n",
        "    print(X.shape) # check shape of the document-term matrix\n",
        "    return X, vectorizer"
      ]
    },
    {
      "cell_type": "code",
      "execution_count": null,
      "metadata": {
        "_cell_guid": "73273b78-a13f-4540-9a4d-82f857b18663",
        "_uuid": "16012694-ad26-4cac-8d4f-f38af4433774",
        "execution": {
          "iopub.execute_input": "2021-07-14T17:16:00.280013Z",
          "iopub.status.busy": "2021-07-14T17:16:00.279738Z",
          "iopub.status.idle": "2021-07-14T17:16:00.288553Z",
          "shell.execute_reply": "2021-07-14T17:16:00.287023Z",
          "shell.execute_reply.started": "2021-07-14T17:16:00.279967Z"
        },
        "id": "UnR_trjX50O5"
      },
      "outputs": [],
      "source": [
        "def topic_modeling(model,X):\n",
        "    '''\n",
        "    We have used three types of decomposition algorithm for unsupervised learning, anyone could \n",
        "    be selected with the help of the \"model\" parameter. Three of them are TruncatedSVD ,Latent\n",
        "    Dirichlet Allocation and Matrix Factorization. This function is useful for comparing\n",
        "    different model performances, by switching between different algorithms with the help of \n",
        "    the \"model\" parameter and also more algorithms could be easily added to this function.\n",
        "    \n",
        "    '''\n",
        "    components = 16\n",
        "    if model=='svd':\n",
        "        print(\"\\nTrying out Truncated SVD......\")\n",
        "        model_ = TruncatedSVD(n_components=components, algorithm='randomized', n_iter=1000, random_state=42)\n",
        "        model_.fit(X)\n",
        "    if model=='MF':\n",
        "        print(\"\\nTrying out Matrix Factorization......\")\n",
        "        model_ = NMF(n_components=components, random_state=1,solver='mu',\n",
        "                      beta_loss='kullback-leibler', max_iter=1000, alpha=.1,\n",
        "                      l1_ratio=.5).fit(X)\n",
        "        model_.fit(X)\n",
        "    if model=='LDA':\n",
        "        print(\"\\nTrying out Latent Dirichlet Allocation......\")\n",
        "        #Tokenized_Doc=[doc.split() for doc in processed_data]\n",
        "        #dictionary = Dictionary(Tokenized_Doc)\n",
        "        #corpus = [dictionary.doc2bow(tokens) for tokens in Tokenized_Doc]\n",
        "        #model_ = LdaModel(corpus, num_topics=components, id2word = dictionary)\n",
        "        model_ = LatentDirichletAllocation(n_components=components,max_iter=40,n_jobs=-1,\n",
        "                                           random_state=42,verbose=0,learning_decay=0.3,\n",
        "                                           learning_offset=30.\n",
        "                                          )\n",
        "        model_.fit(X)\n",
        "\n",
        "    return model_"
      ]
    },
    {
      "cell_type": "code",
      "execution_count": null,
      "metadata": {
        "_cell_guid": "b246a793-8041-4636-b8bf-8c3e3a51e68e",
        "_uuid": "84e735a1-a683-43e3-b4a5-14c4b7e28003",
        "execution": {
          "iopub.execute_input": "2021-07-14T17:16:01.636784Z",
          "iopub.status.busy": "2021-07-14T17:16:01.636483Z",
          "iopub.status.idle": "2021-07-14T17:16:01.642852Z",
          "shell.execute_reply": "2021-07-14T17:16:01.642171Z",
          "shell.execute_reply.started": "2021-07-14T17:16:01.636735Z"
        },
        "id": "gewv9icm50O6"
      },
      "outputs": [],
      "source": [
        "def Get_MostImportant_words(model, vectorizer):\n",
        "    '''\n",
        "    This function is used to evaluate top twenty most important words under each category.\n",
        "    '''\n",
        "    terms = vectorizer.get_feature_names()\n",
        "\n",
        "    for i, comp in enumerate(model.components_):\n",
        "        terms_comp = zip(terms, comp)\n",
        "        sorted_terms = sorted(terms_comp, key= lambda x:x[1], reverse=True)[:30]\n",
        "        print(\"Category \"+str(i)+\": \")\n",
        "        for t in sorted_terms:\n",
        "            print(t[0],end =\", \")\n",
        "        print(\"\\n\")"
      ]
    },
    {
      "cell_type": "code",
      "execution_count": null,
      "metadata": {
        "_cell_guid": "a61659af-25d2-4f49-8da1-c8d8eec2674b",
        "_uuid": "9c2ffa57-3e4f-4591-946e-115e333df392",
        "execution": {
          "iopub.execute_input": "2021-07-14T17:16:10.853476Z",
          "iopub.status.busy": "2021-07-14T17:16:10.852897Z",
          "iopub.status.idle": "2021-07-14T17:16:10.861051Z",
          "shell.execute_reply": "2021-07-14T17:16:10.860369Z",
          "shell.execute_reply.started": "2021-07-14T17:16:10.853430Z"
        },
        "id": "IhTKR34-50O6"
      },
      "outputs": [],
      "source": [
        "def Visualize_clusters(model_, title):\n",
        "    '''\n",
        "    This function is used to visualize the clusters generated by our \n",
        "    model through unsupervised learning. We have used UMAP for better \n",
        "    visualization of clusters.\n",
        "    \n",
        "    '''\n",
        "    X_topics = model_.fit_transform(X)\n",
        "    embedding = umap.UMAP(n_neighbors=10,random_state=42).fit_transform(X_topics)#20\n",
        "\n",
        "    plt.figure(figsize=(20,20))\n",
        "    plt.title(title,fontsize=16)\n",
        "    plt.scatter(embedding[:, 0], embedding[:, 1], \n",
        "    c = movie_df['Genre_grouped'],cmap='Spectral', alpha=1.0,\n",
        "    s = 10, # size\n",
        "    )\n",
        "    plt.show()"
      ]
    },
    {
      "cell_type": "code",
      "execution_count": null,
      "metadata": {
        "execution": {
          "iopub.execute_input": "2021-07-14T17:16:12.457832Z",
          "iopub.status.busy": "2021-07-14T17:16:12.457300Z",
          "iopub.status.idle": "2021-07-14T17:16:12.737287Z",
          "shell.execute_reply": "2021-07-14T17:16:12.735438Z",
          "shell.execute_reply.started": "2021-07-14T17:16:12.457791Z"
        },
        "id": "Z3swCzkA50O6"
      },
      "outputs": [],
      "source": [
        "#movie_df['Genre_improved'] = Data_Cleaning(movie_df['Genre'])\n",
        "movie_df['Plot'][0]"
      ]
    },
    {
      "cell_type": "code",
      "execution_count": null,
      "metadata": {
        "_cell_guid": "3beb82fd-78cd-4aea-9583-908013dc2590",
        "_uuid": "93af2e93-2312-45df-9ff2-78b2f72aa551",
        "execution": {
          "iopub.execute_input": "2021-07-14T14:10:59.772408Z",
          "iopub.status.busy": "2021-07-14T14:10:59.772124Z",
          "iopub.status.idle": "2021-07-14T14:15:20.119595Z",
          "shell.execute_reply": "2021-07-14T14:15:20.118264Z",
          "shell.execute_reply.started": "2021-07-14T14:10:59.772375Z"
        },
        "id": "fn6ioz8R50O7"
      },
      "outputs": [],
      "source": [
        "movie_df['Genre_improved'] = Data_Cleaning(movie_df['Genre'])\n",
        "movie_df['Genre_grouped'] = group_genre(movie_df['Genre_improved'])\n",
        "movie_df = movie_df[movie_df['Genre_grouped']!='Default']# Defalut categories are removed\n",
        "processed_data = pre_Process_data(movie_df['Plot'])"
      ]
    },
    {
      "cell_type": "code",
      "execution_count": null,
      "metadata": {
        "_cell_guid": "7296793a-3b4d-475e-ba8a-e4a38588fc58",
        "_kg_hide-output": true,
        "_uuid": "2b5a87e1-f453-4b97-9037-24c2bef7acc8",
        "execution": {
          "iopub.execute_input": "2021-07-14T14:15:20.121205Z",
          "iopub.status.busy": "2021-07-14T14:15:20.120986Z",
          "iopub.status.idle": "2021-07-14T14:15:20.163525Z",
          "shell.execute_reply": "2021-07-14T14:15:20.162298Z",
          "shell.execute_reply.started": "2021-07-14T14:15:20.121175Z"
        },
        "id": "i8SWmtgN50O8"
      },
      "outputs": [],
      "source": [
        "unique, counts = np.unique(movie_df['Genre_grouped'], return_counts=True)\n",
        "for x,y in zip(unique,counts):\n",
        "    print(x+\" -> \"+str(y))"
      ]
    },
    {
      "cell_type": "code",
      "execution_count": null,
      "metadata": {
        "_cell_guid": "00a0f4ac-7602-481f-8b15-5cc96a2f3525",
        "_uuid": "88e51f39-585c-4467-8974-415961d30995",
        "execution": {
          "iopub.execute_input": "2021-07-14T14:15:55.386326Z",
          "iopub.status.busy": "2021-07-14T14:15:55.386034Z",
          "iopub.status.idle": "2021-07-14T14:15:55.405286Z",
          "shell.execute_reply": "2021-07-14T14:15:55.403738Z",
          "shell.execute_reply.started": "2021-07-14T14:15:55.386278Z"
        },
        "id": "5MtCexTl50O8"
      },
      "outputs": [],
      "source": [
        "movie_df['Genre_grouped'] = movie_df['Genre_grouped'].astype(\"category\").cat.codes"
      ]
    },
    {
      "cell_type": "code",
      "execution_count": null,
      "metadata": {
        "_cell_guid": "e05eb2da-8dda-42ed-8373-a3f8d8fd6b09",
        "_uuid": "3d115bb1-0870-4242-9c7c-54e0a55c096b",
        "execution": {
          "iopub.execute_input": "2021-07-14T15:17:28.123664Z",
          "iopub.status.busy": "2021-07-14T15:17:28.123249Z",
          "iopub.status.idle": "2021-07-14T15:17:33.679214Z",
          "shell.execute_reply": "2021-07-14T15:17:33.678636Z",
          "shell.execute_reply.started": "2021-07-14T15:17:28.123631Z"
        },
        "id": "3Wh5V_JI50O9"
      },
      "outputs": [],
      "source": [
        "X, vectorizer = Vectorization(processed_data)"
      ]
    },
    {
      "cell_type": "code",
      "execution_count": null,
      "metadata": {
        "_cell_guid": "d3df8b91-fa4d-40fc-b43f-737f11ebfbc4",
        "_uuid": "0331df80-fa99-4928-a260-d0b5061a7859",
        "execution": {
          "iopub.execute_input": "2021-07-14T15:17:37.127132Z",
          "iopub.status.busy": "2021-07-14T15:17:37.126796Z",
          "iopub.status.idle": "2021-07-14T15:17:37.130822Z",
          "shell.execute_reply": "2021-07-14T15:17:37.130033Z",
          "shell.execute_reply.started": "2021-07-14T15:17:37.127047Z"
        },
        "id": "QZ03Vyef50O9"
      },
      "outputs": [],
      "source": [
        "#vectorizer.get_feature_names()"
      ]
    },
    {
      "cell_type": "code",
      "execution_count": null,
      "metadata": {
        "_cell_guid": "3cff2d9b-f297-4148-9429-6b5edcedd815",
        "_uuid": "fcc4676a-91f0-4675-9db8-44c23ed848c1",
        "execution": {
          "iopub.execute_input": "2021-07-14T17:16:31.397674Z",
          "iopub.status.busy": "2021-07-14T17:16:31.397365Z",
          "iopub.status.idle": "2021-07-14T17:21:30.924005Z",
          "shell.execute_reply": "2021-07-14T17:21:30.923138Z",
          "shell.execute_reply.started": "2021-07-14T17:16:31.397609Z"
        },
        "id": "h5xY0bzf50O-"
      },
      "outputs": [],
      "source": [
        "model_1 = topic_modeling('MF',X)"
      ]
    },
    {
      "cell_type": "code",
      "execution_count": null,
      "metadata": {
        "_cell_guid": "e5cb894d-9e98-468c-ac69-6a2d09e2f55a",
        "_kg_hide-output": true,
        "_uuid": "393a545a-248a-4580-ac16-699062b9ddf4",
        "execution": {
          "iopub.execute_input": "2021-07-14T17:21:30.925534Z",
          "iopub.status.busy": "2021-07-14T17:21:30.925359Z",
          "iopub.status.idle": "2021-07-14T17:21:31.255134Z",
          "shell.execute_reply": "2021-07-14T17:21:31.254238Z",
          "shell.execute_reply.started": "2021-07-14T17:21:30.925506Z"
        },
        "id": "f-ieHqY650O-"
      },
      "outputs": [],
      "source": [
        "print(\"Most Important words under each Category using Matrix Factorization.\\n\")\n",
        "Get_MostImportant_words(model_1, vectorizer)"
      ]
    },
    {
      "cell_type": "code",
      "execution_count": null,
      "metadata": {
        "_cell_guid": "0ddda556-5b34-4e01-8397-380717362a5d",
        "_uuid": "5f738b48-b25a-42a1-8365-f623f68c1053",
        "execution": {
          "iopub.execute_input": "2021-07-14T16:56:38.768694Z",
          "iopub.status.busy": "2021-07-14T16:56:38.768368Z",
          "iopub.status.idle": "2021-07-14T17:02:20.347149Z",
          "shell.execute_reply": "2021-07-14T17:02:20.345567Z",
          "shell.execute_reply.started": "2021-07-14T16:56:38.768632Z"
        },
        "id": "kRu5YEKw50O_"
      },
      "outputs": [],
      "source": [
        "model_2 = topic_modeling('svd',X)"
      ]
    },
    {
      "cell_type": "code",
      "execution_count": null,
      "metadata": {
        "_cell_guid": "5c3e2c8a-8fa1-44e7-ac32-5ab14cc8cb1f",
        "_uuid": "fddb2547-f6f1-40e3-a9eb-b5a250c81c10",
        "execution": {
          "iopub.execute_input": "2021-07-14T17:02:20.349024Z",
          "iopub.status.busy": "2021-07-14T17:02:20.348825Z",
          "iopub.status.idle": "2021-07-14T17:02:21.482937Z",
          "shell.execute_reply": "2021-07-14T17:02:21.481729Z",
          "shell.execute_reply.started": "2021-07-14T17:02:20.348994Z"
        },
        "id": "Lpt2wdxe50PA"
      },
      "outputs": [],
      "source": [
        "print(\"Most Important words under each Category using Latent Semantic Analysis.\\n\")\n",
        "Get_MostImportant_words(model_2, vectorizer)"
      ]
    },
    {
      "cell_type": "code",
      "execution_count": null,
      "metadata": {
        "id": "SFYLjs_s50PA"
      },
      "outputs": [],
      "source": [
        "model_3 = topic_modeling('LDA',X)"
      ]
    },
    {
      "cell_type": "code",
      "execution_count": null,
      "metadata": {
        "id": "y5Uv4D2v50PB"
      },
      "outputs": [],
      "source": [
        "print(\"Most Important words under each Category using Latent Dirichlet Allocation.\\n\")\n",
        "Get_MostImportant_words(model_3, vectorizer)"
      ]
    }
  ],
  "metadata": {
    "kernelspec": {
      "display_name": "Python 3",
      "language": "python",
      "name": "python3"
    },
    "language_info": {
      "codemirror_mode": {
        "name": "ipython",
        "version": 3
      },
      "file_extension": ".py",
      "mimetype": "text/x-python",
      "name": "python",
      "nbconvert_exporter": "python",
      "pygments_lexer": "ipython3",
      "version": "3.6.6"
    },
    "colab": {
      "name": "recommender-system-using-un-supervised-learning.ipynb",
      "provenance": []
    }
  },
  "nbformat": 4,
  "nbformat_minor": 0
}